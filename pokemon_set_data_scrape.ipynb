{
  "nbformat": 4,
  "nbformat_minor": 0,
  "metadata": {
    "colab": {
      "name": "pokemon set data scrape.ipynb",
      "provenance": [],
      "collapsed_sections": [],
      "authorship_tag": "ABX9TyNx23BnJ0scLKK6wPAgyLQM",
      "include_colab_link": true
    },
    "kernelspec": {
      "name": "python3",
      "display_name": "Python 3"
    },
    "language_info": {
      "name": "python"
    }
  },
  "cells": [
    {
      "cell_type": "markdown",
      "metadata": {
        "id": "view-in-github",
        "colab_type": "text"
      },
      "source": [
        "<a href=\"https://colab.research.google.com/github/thanecutler/pokemon-set-data-price-scraper/blob/main/pokemon_set_data_scrape.ipynb\" target=\"_parent\"><img src=\"https://colab.research.google.com/assets/colab-badge.svg\" alt=\"Open In Colab\"/></a>"
      ]
    },
    {
      "cell_type": "code",
      "execution_count": 174,
      "metadata": {
        "id": "x25NaC3wXAJP"
      },
      "outputs": [],
      "source": [
        "# imports\n",
        "\n",
        "import requests\n",
        "import re\n",
        "import json\n",
        "import time\n",
        "from datetime import date\n",
        "from bs4 import BeautifulSoup\n",
        "from IPython.display import clear_output"
      ]
    },
    {
      "cell_type": "code",
      "source": [
        "# sets and url stem\n",
        "\n",
        "# sets = soup.findAll('select', 'priceGuideDropDown')[1]\n",
        "# options = sets.findAll('option')\n",
        "\n",
        "# set_name_list = []\n",
        "\n",
        "# for option in options:\n",
        "#   set_name_list.append(option['value'])\n",
        "\n",
        "# print(set_name_list)\n",
        "\n",
        "pokemon_url = 'https://shop.tcgplayer.com/price-guide/pokemon/'\n",
        "pokemon_sets = ['swsh09-brilliant-stars', 'swsh09-brilliant-stars-trainer-gallery', 'swsh08-fusion-strike', 'celebrations', 'celebrations-classic-collection', 'swsh07-evolving-skies', 'swsh06-chilling-reign', 'swsh05-battle-styles', 'first-partner-pack', 'shining-fates', 'shining-fates-shiny-vault', 'mcdonalds-25th-anniversary-promos', 'swsh04-vivid-voltage', 'champions-path', 'swsh03-darkness-ablaze', 'battle-academy', 'swsh02-rebel-clash', 'swsh01-sword-and-shield-base-set', 'swsh-sword-and-shield-promo-cards', 'sm-cosmic-eclipse', 'mcdonalds-promos-2019', 'hidden-fates', 'hidden-fates-shiny-vault', 'sm-unified-minds', 'sm-unbroken-bonds', 'detective-pikachu', 'sm-team-up', 'mcdonalds-promos-2018', 'sm-lost-thunder', 'miscellaneous-cards-and-products', 'dragon-majesty', 'sm-celestial-storm', 'world-championship-decks', 'sm-forbidden-light', 'sm-trainer-kit-alolan-sandslash-and-alolan-ninetales', 'sm-ultra-prism', 'mcdonalds-promos-2017', 'sm-crimson-invasion', 'shining-legends', 'sm-burning-shadows', 'alternate-art-promos', 'sm-guardians-rising', 'sm-trainer-kit-lycanroc-and-alolan-raichu', 'sm-base-set', 'sm-promos', 'xy-evolutions', 'deck-exclusives', 'xy-steam-siege', 'league-and-championship-cards', 'xy-fates-collide', 'xy-trainer-kit-pikachu-libre-and-suicune', 'generations', 'generations-radiant-collection', 'xy-breakpoint', 'mcdonalds-promos-2015', 'xy-breakthrough', 'xy-ancient-origins', 'xy-roaring-skies', 'xy-trainer-kit-latias-and-latios', 'jumbo-cards', 'double-crisis', 'xy-primal-clash', 'xy-trainer-kit-bisharp-and-wigglytuff', 'xy-phantom-forces', 'xy-furious-fists', 'mcdonalds-promos-2014', 'xy-flashfire', 'xy-trainer-kit-sylveon-and-noivern', 'xy-base-set', 'xy-promos', 'legendary-treasures', 'legendary-treasures-radiant-collection', 'plasma-blast', 'plasma-freeze', 'plasma-storm', 'boundaries-crossed', 'dragons-exalted', 'dark-explorers', 'noble-victories', 'bw-trainer-kit-excadrill-and-zoroark', 'emerging-powers', 'black-and-white', 'call-of-legends', 'professor-program-promos', 'triumphant', 'undaunted', 'pikachu-world-collection-promos', 'unleashed', 'hgss-promos', 'arceus', 'supreme-victors', 'burger-king-promos', 'countdown-calendar-promos', 'legends-awakened', 'great-encounters', 'dp-trainer-kit-manaphy-and-lucario', 'diamond-and-pearl', 'diamond-and-pearl-promos', 'dragon-frontiers', 'crystal-guardians', 'delta-species', 'unseen-forces', 'emerald', 'deoxys', 'ex-battle-stadium', 'kids-wb-promos', 'team-magma-vs-team-aqua', 'dragon', 'aquapolis', 'best-of-promos', 'team-rocket', 'fossil', 'wotc-promo', 'blister-exclusives', 'base-set', 'base-set-shadowless', 'base-set-2', 'black-and-white-promos', 'dp-training-kit-1-blue', 'dp-training-kit-1-gold', 'dragon-vault', 'ex-trainer-kit-1-latias-and-latios', 'ex-trainer-kit-2-plusle-and-minun', 'expedition', 'firered-and-leafgreen', 'gym-challenge', 'gym-heroes', 'heartgold-soulsilver', 'hgss-trainer-kit-gyarados-and-raichu', 'hidden-legends', 'holon-phantoms', 'jungle', 'kalos-starter-set', 'legend-maker', 'legendary-collection', 'majestic-dawn', 'mcdonalds-promos-2011', 'mcdonalds-promos-2012', 'mysterious-treasures', 'neo-destiny', 'neo-discovery', 'neo-genesis', 'neo-revelation', 'next-destinies', 'nintendo-promos', 'platinum', 'pop-series-1', 'pop-series-2', 'pop-series-3', 'pop-series-4', 'pop-series-5', 'pop-series-6', 'pop-series-7', 'pop-series-8', 'pop-series-9', 'power-keepers', 'rising-rivals', 'ruby-and-sapphire', 'rumble', 'sandstorm', 'secret-wonders', 'skyridge', 'southern-islands', 'stormfront', 'team-rocket-returns']"
      ],
      "metadata": {
        "id": "JKj4SfH2GGCJ"
      },
      "execution_count": 175,
      "outputs": []
    },
    {
      "cell_type": "code",
      "source": [
        "# get prices function\n",
        "\n",
        "def scrape_data(url, set_list):\n",
        "\n",
        "  print('Beginning collection...')\n",
        "\n",
        "  set_price_list = {'data': []}\n",
        "  skipped_sets = []\n",
        "\n",
        "  for ind, set_name in enumerate(set_list):\n",
        "\n",
        "    clear_output(wait=True)\n",
        "\n",
        "    try: \n",
        "      page_raw = requests.get(url + set_name)\n",
        "      soup = BeautifulSoup(page_raw.text, 'html.parser')\n",
        "    except:\n",
        "      'Error occured retrieving data'\n",
        "      skipped_sets.append(set_name)\n",
        "\n",
        "    # create list of cells with price data in them\n",
        "    price_td = soup.find_all('td', class_='marketPrice')\n",
        "\n",
        "    # create new list to aggregate prices\n",
        "    price_array = []\n",
        "\n",
        "    # loop through prices, push to array\n",
        "    # format: 0000.00\n",
        "    for price in price_td:\n",
        "      price = re.findall('([0-9,]*\\.[0-9]*)', price.text)\n",
        "      if len(price):\n",
        "        price_array.append(float(price[0].replace(',', '')))\n",
        "\n",
        "    # calculate total of price_array, round to two decimals\n",
        "    total = round(sum(map(float, price_array)), 2)\n",
        "    \n",
        "    # create new dict to push to set_price_list\n",
        "    set_obj = {'set_name': set_name.replace('-', ' ').title(), 'value': total, 'url': url + set_name, 'card_count': len(price_td)}\n",
        "    set_price_list['data'].append(set_obj)\n",
        "\n",
        "    print('Completed {} of {} sets'.format(ind + 1, len(set_list)))\n",
        "\n",
        "    # wait ten seconds for crawl delay\n",
        "    if (ind + 1 != len(set_list)):\n",
        "      print('Waiting 10 seconds for next set...')\n",
        "      time.sleep(10)\n",
        "\n",
        "  today = date.today().strftime('%Y-%m-%d')\n",
        "  set_price_list['date'] = today\n",
        "  \n",
        "  file_title = 'pokemon-set-price-data-{}.json'.format(today)\n",
        "\n",
        "  # output to results.json file\n",
        "  with open(file_title, 'w') as file:\n",
        "    json.dump(set_price_list, file)\n",
        "\n",
        "  # write to log file\n",
        "  with open('logs.txt', 'a') as file:\n",
        "    file.write('Finished gathering data. Skipped {} sets. Results saved in {}\\n'.format(len(skipped_sets),file_title))\n",
        "    if len(skipped_sets):\n",
        "      file.write('\\nSkipped sets:')\n",
        "      for set_name in skipped_sets:\n",
        "        file.write('\\n\\t' + set_name)\n",
        "      file.write('\\n')\n",
        "\n",
        "  print('Finished gathering data. Skipped {} sets. Results saved in {}'.format(len(skipped_sets),file_title))"
      ],
      "metadata": {
        "id": "tPI38JMwGHY1"
      },
      "execution_count": 181,
      "outputs": []
    },
    {
      "cell_type": "code",
      "source": [
        "scrape_data(pokemon_url, pokemon_sets[slice(0,2)])"
      ],
      "metadata": {
        "colab": {
          "base_uri": "https://localhost:8080/"
        },
        "id": "w7-ZlnkHIbwI",
        "outputId": "59601a4f-24d1-4797-9a3b-a6be9262efd5"
      },
      "execution_count": 180,
      "outputs": [
        {
          "output_type": "stream",
          "name": "stdout",
          "text": [
            "Completed 2 of 2 sets\n",
            "Finished gathering data. Skipped 0 sets. Results saved in pokemon-set-price-data-2022-03-05.json\n"
          ]
        }
      ]
    }
  ]
}